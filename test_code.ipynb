{
 "cells": [
  {
   "cell_type": "code",
   "execution_count": 1,
   "metadata": {},
   "outputs": [
    {
     "name": "stderr",
     "output_type": "stream",
     "text": [
      "d:\\anaconda\\envs\\pytorch\\lib\\site-packages\\tqdm\\auto.py:22: TqdmWarning: IProgress not found. Please update jupyter and ipywidgets. See https://ipywidgets.readthedocs.io/en/stable/user_install.html\n",
      "  from .autonotebook import tqdm as notebook_tqdm\n"
     ]
    }
   ],
   "source": [
    "# code is adapted from CADDA and braincode\n",
    "from audioop import reverse\n",
    "from enum import auto\n",
    "from numbers import Real\n",
    "from operator import invert\n",
    "import random\n",
    "import numpy as np\n",
    "import torch\n",
    "import torch.nn as nn\n",
    "from scipy.interpolate import Rbf\n",
    "from scipy.spatial.transform import Rotation\n",
    "from sklearn.utils import check_random_state\n",
    "from torch.fft import fft, ifft\n",
    "from torch.nn.functional import dropout2d, pad, one_hot\n",
    "from torch.distributions import Normal\n",
    "from mne.filter import notch_filter\n",
    "from mne.channels.interpolation import _make_interpolation_matrix\n",
    "from mne.channels import make_standard_montage\n",
    "import matplotlib.pyplot as plt\n",
    "from ecgdetectors import Detectors\n",
    "from scipy.interpolate import CubicSpline\n",
    "\n",
    "target_dir = 'subdiag'\n",
    "num_class = 23\n",
    "n_fold = 10\n",
    "predict_mode = 'test'"
   ]
  },
  {
   "cell_type": "code",
   "execution_count": 2,
   "metadata": {},
   "outputs": [
    {
     "name": "stdout",
     "output_type": "stream",
     "text": [
      "torch.Size([1, 100]) tensor([[ 0.1610,  0.1462,  0.0132,  0.1305,  0.0163,  0.0271, -0.0641, -0.1368,\n",
      "         -0.1287, -0.0022,  0.0184, -0.0795, -0.0469, -0.0536,  0.0172, -0.0254,\n",
      "          0.0190, -0.0621,  0.1919,  0.3247,  0.1226,  0.2166,  0.3186,  0.2340,\n",
      "          0.2878,  0.4018,  0.2780,  0.2582, -0.0120, -0.0971,  0.0680,  0.0574,\n",
      "         -0.0766, -0.0753, -0.0578,  0.0140,  0.0276,  0.1958,  0.1602,  0.2277,\n",
      "          0.1999,  0.3660,  0.4377,  0.4548,  0.5833,  0.4884,  0.5764,  0.4850,\n",
      "          0.5466,  0.4853,  0.4696,  0.2693,  0.2994,  0.2527,  0.2489,  0.2137,\n",
      "          0.0889,  0.0355,  0.1358,  0.2004,  0.1693,  0.2082,  0.1607,  0.1911,\n",
      "         -0.1076, -0.0616,  0.0681,  0.0660,  0.1145, -0.1072, -0.1581, -0.1767,\n",
      "         -0.1959, -0.2209, -0.0905, -0.2346, -0.2838, -0.2980, -0.3967, -0.3930,\n",
      "         -0.6026, -0.5070, -0.4560, -0.3028, -0.4097, -0.3242, -0.2523, -0.0897,\n",
      "         -0.0265,  0.0647,  0.3243,  0.0934,  0.0644, -0.0732, -0.0803, -0.0532,\n",
      "         -0.1319, -0.2611, -0.3174, -0.3474]])\n",
      "quant:  tensor(0.2496)\n",
      "Compare two result\n",
      "Adapt  tensor([0.3247, 0.3186, 0.2878, 0.4018, 0.2780, 0.2582, 0.3660, 0.4377, 0.4548,\n",
      "        0.5833, 0.4884, 0.5764, 0.4850, 0.5466, 0.4853, 0.4696, 0.2693, 0.2994,\n",
      "        0.2527, 0.3243])\n",
      "Auto  [0.32469434 0.31864262 0.28781334 0.4017715  0.27799258 0.25815246\n",
      " 0.36600807 0.437665   0.45484123 0.58327925 0.48842025 0.576445\n",
      " 0.485046   0.54659474 0.48534718 0.46957296 0.26933458 0.2993696\n",
      " 0.2526908  0.32434618]\n"
     ]
    }
   ],
   "source": [
    "### torch adaptive test\n",
    "bs,ch,seqlen = 1,1,100\n",
    "signal = torch.randn(bs,seqlen,ch)\n",
    "#print(signal)\n",
    "windowed_sig = torch.nn.functional.avg_pool1d(signal.view(1,1,seqlen),kernel_size=10, stride=1, padding=5,count_include_pad=False).view(1,-1)[:,:seqlen]\n",
    "print(windowed_sig.shape,windowed_sig)\n",
    "quant_score = torch.quantile(windowed_sig[0],0.8)\n",
    "print('quant: ',quant_score)\n",
    "#keep adapt ways\n",
    "select_windows = (windowed_sig[0] >= quant_score).nonzero(as_tuple=True)[0].detach().cpu().numpy()\n",
    "#select_windows = select_windows + 10 // 2\n",
    "#keep auto ways\n",
    "passed_windows = []\n",
    "for x in range(100):\n",
    "    x1 = np.clip(x - 10 // 2, 0, seqlen)\n",
    "    x2 = np.clip(x + 10 // 2, 0, seqlen)\n",
    "    reg_mean = signal[0,x1: x2].mean()\n",
    "    if reg_mean >= quant_score:\n",
    "        passed_windows.append(reg_mean)\n",
    "passed_windows = np.array(passed_windows)\n",
    "print('Compare two result')\n",
    "print('Adapt ',windowed_sig[0,select_windows])\n",
    "print('Auto ',passed_windows)"
   ]
  },
  {
   "cell_type": "code",
   "execution_count": 7,
   "metadata": {},
   "outputs": [
    {
     "name": "stdout",
     "output_type": "stream",
     "text": [
      "[[0 1]\n",
      " [1 2]\n",
      " [2 3]\n",
      " [3 3]\n",
      " [4 1]\n",
      " [5 3]\n",
      " [6 7]]\n",
      "[1, 2, 3, 4, 5, 7, 8, 9, 10, 11, 12, 13, 14, 15, 16, 17, 18, 19]\n",
      "[0, 6]\n",
      "[ 7 14 17 16  1  0  8  6  5  0  6]\n",
      "[11  9  4 15 13  2  3 12 10]\n",
      "Train len: 11,Search len: 9\n"
     ]
    }
   ],
   "source": [
    "from sklearn.model_selection import StratifiedShuffleSplit,ShuffleSplit\n",
    "dummy = np.array([0,1,2,3,3,6,4,6,6,6,6,6,6,2,2,1,3,5,5,5])\n",
    "unique, counts = np.unique(dummy, return_counts=True)\n",
    "counts_array = np.asarray((unique, counts)).T\n",
    "print(counts_array)\n",
    "too_minor_class = unique[counts < 2] #11/09 change for minor class\n",
    "total = len(dummy)\n",
    "rd_idxs,too_minor_sample = [],[]\n",
    "dummy_reduced = []\n",
    "for i in range(total):\n",
    "    if dummy[i] in too_minor_class:\n",
    "        too_minor_sample.append(i)\n",
    "    else:\n",
    "        rd_idxs.append(i)\n",
    "        dummy_reduced.append(dummy[i])\n",
    "\n",
    "print(rd_idxs)\n",
    "print(too_minor_sample)\n",
    "sss = StratifiedShuffleSplit(n_splits=5, test_size=0.5, random_state=0)\n",
    "sss = sss.split(list(rd_idxs), dummy_reduced)\n",
    "tot_train_idx, search_idx = next(sss)\n",
    "too_minor_sample = np.array(too_minor_sample)\n",
    "tot_train_idx = np.concatenate((tot_train_idx,too_minor_sample)) #add back minor sample, 11/09\n",
    "print(tot_train_idx)\n",
    "print(search_idx)\n",
    "print(f'Train len: {len(tot_train_idx)},Search len: {len(search_idx)}')"
   ]
  }
 ],
 "metadata": {
  "kernelspec": {
   "display_name": "Python 3.9.12 ('pytorch')",
   "language": "python",
   "name": "python3"
  },
  "language_info": {
   "codemirror_mode": {
    "name": "ipython",
    "version": 3
   },
   "file_extension": ".py",
   "mimetype": "text/x-python",
   "name": "python",
   "nbconvert_exporter": "python",
   "pygments_lexer": "ipython3",
   "version": "3.9.12"
  },
  "orig_nbformat": 4,
  "vscode": {
   "interpreter": {
    "hash": "9ebf9cfd872009544a161647ac82c48f4cc096aba58631b69e515c7576d66293"
   }
  }
 },
 "nbformat": 4,
 "nbformat_minor": 2
}
